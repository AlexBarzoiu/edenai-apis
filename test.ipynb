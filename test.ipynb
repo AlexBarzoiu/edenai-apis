{
 "cells": [
  {
   "cell_type": "code",
   "execution_count": 1,
   "metadata": {},
   "outputs": [],
   "source": [
    "from edenai_apis.interface_v2 import Ocr\n",
    "from edenai_apis.loaders.loaders import load_feature, FeatureDataEnum"
   ]
  },
  {
   "cell_type": "code",
   "execution_count": 2,
   "metadata": {},
   "outputs": [],
   "source": [
    "args = load_feature(FeatureDataEnum.SAMPLES_ARGS, feature=\"ocr\", subfeature=\"invoice_parser\")"
   ]
  },
  {
   "cell_type": "code",
   "execution_count": 3,
   "metadata": {},
   "outputs": [],
   "source": [
    "response = Ocr.invoice_parser('klippa')(**args)"
   ]
  },
  {
   "cell_type": "code",
   "execution_count": 5,
   "metadata": {},
   "outputs": [
    {
     "name": "stdout",
     "output_type": "stream",
     "text": [
      "customer_information=CustomerInformationInvoice(customer_name='Client Name', customer_address='', customer_email='', customer_id='', customer_tax_id='', customer_mailing_address=None, customer_billing_address='', customer_shipping_address=None, customer_service_address=None, customer_remittance_address=None) merchant_information=MerchantInformationInvoice(merchant_name='Yourwebsite', merchant_address='', merchant_phone='6474441234', merchant_email='your@email.com', merchant_fax=None, merchant_website='http://yourwebsite.com', merchant_tax_id='', merchant_siret='', merchant_siren=None) invoice_number='000000' invoice_total=452000.0 invoice_subtotal=None amount_due=None previous_unpaid_balance=None discount=None taxes=[TaxesInvoice(value=None, rate=None)] payment_term=None purchase_order=None date=None due_date=None service_date=None service_due_date=None locale=LocaleInvoice(currency='USD', language='EN') bank_informations=BankInvoice(account_number='', iban='', bsb=None, sort_code='', vat_number=None, rooting_number=None, swift=None) item_lines=[ItemLinesInvoice(description='', quantity=1, amount=100000.0, unit_price=100000.0, discount=0, product_code='', date_item=None, tax_item=None, tax_rate=0.0), ItemLinesInvoice(description='', quantity=1, amount=100000.0, unit_price=100000.0, discount=0, product_code='', date_item=None, tax_item=None, tax_rate=0.0), ItemLinesInvoice(description='', quantity=1, amount=100000.0, unit_price=100000.0, discount=0, product_code='', date_item=None, tax_item=None, tax_rate=0.0), ItemLinesInvoice(description='', quantity=1, amount=100000.0, unit_price=100000.0, discount=0, product_code='', date_item=None, tax_item=None, tax_rate=0.0)]\n"
     ]
    }
   ],
   "source": [
    "print(response.standardized_response.extracted_data[0])"
   ]
  },
  {
   "cell_type": "code",
   "execution_count": null,
   "metadata": {},
   "outputs": [],
   "source": []
  }
 ],
 "metadata": {
  "kernelspec": {
   "display_name": "Python 3",
   "language": "python",
   "name": "python3"
  },
  "language_info": {
   "codemirror_mode": {
    "name": "ipython",
    "version": 3
   },
   "file_extension": ".py",
   "mimetype": "text/x-python",
   "name": "python",
   "nbconvert_exporter": "python",
   "pygments_lexer": "ipython3",
   "version": "3.8.10"
  },
  "orig_nbformat": 4,
  "vscode": {
   "interpreter": {
    "hash": "916dbcbb3f70747c44a77c7bcd40155683ae19c65e1c03b4aa3499c5328201f1"
   }
  }
 },
 "nbformat": 4,
 "nbformat_minor": 2
}
